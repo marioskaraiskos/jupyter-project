{
 "cells": [
  {
   "cell_type": "code",
   "execution_count": 1,
   "id": "8d5b6d24-22bb-44a5-b825-25854d96db81",
   "metadata": {},
   "outputs": [],
   "source": [
    "import pandas as pd"
   ]
  },
  {
   "cell_type": "code",
   "execution_count": 2,
   "id": "55f9502c-9665-4eec-acf1-b52eaf549913",
   "metadata": {},
   "outputs": [],
   "source": [
    "ch = pd.read_csv('champs.csv')"
   ]
  },
  {
   "cell_type": "code",
   "execution_count": 3,
   "id": "35056405-cb98-42ce-ad3b-7ac23803869f",
   "metadata": {},
   "outputs": [
    {
     "data": {
      "text/plain": [
       "(138, 2)"
      ]
     },
     "execution_count": 3,
     "metadata": {},
     "output_type": "execute_result"
    }
   ],
   "source": [
    "ch.shape\n"
   ]
  },
  {
   "cell_type": "code",
   "execution_count": 4,
   "id": "6a2d6be6-58e9-4956-bd6c-dc3db7e3e759",
   "metadata": {},
   "outputs": [
    {
     "data": {
      "text/html": [
       "<div>\n",
       "<style scoped>\n",
       "    .dataframe tbody tr th:only-of-type {\n",
       "        vertical-align: middle;\n",
       "    }\n",
       "\n",
       "    .dataframe tbody tr th {\n",
       "        vertical-align: top;\n",
       "    }\n",
       "\n",
       "    .dataframe thead th {\n",
       "        text-align: right;\n",
       "    }\n",
       "</style>\n",
       "<table border=\"1\" class=\"dataframe\">\n",
       "  <thead>\n",
       "    <tr style=\"text-align: right;\">\n",
       "      <th></th>\n",
       "      <th>name</th>\n",
       "      <th>id</th>\n",
       "    </tr>\n",
       "  </thead>\n",
       "  <tbody>\n",
       "    <tr>\n",
       "      <th>0</th>\n",
       "      <td>Jax</td>\n",
       "      <td>24</td>\n",
       "    </tr>\n",
       "    <tr>\n",
       "      <th>1</th>\n",
       "      <td>Sona</td>\n",
       "      <td>37</td>\n",
       "    </tr>\n",
       "    <tr>\n",
       "      <th>2</th>\n",
       "      <td>Tristana</td>\n",
       "      <td>18</td>\n",
       "    </tr>\n",
       "    <tr>\n",
       "      <th>3</th>\n",
       "      <td>Varus</td>\n",
       "      <td>110</td>\n",
       "    </tr>\n",
       "    <tr>\n",
       "      <th>4</th>\n",
       "      <td>Fiora</td>\n",
       "      <td>114</td>\n",
       "    </tr>\n",
       "  </tbody>\n",
       "</table>\n",
       "</div>"
      ],
      "text/plain": [
       "       name   id\n",
       "0       Jax   24\n",
       "1      Sona   37\n",
       "2  Tristana   18\n",
       "3     Varus  110\n",
       "4     Fiora  114"
      ]
     },
     "execution_count": 4,
     "metadata": {},
     "output_type": "execute_result"
    }
   ],
   "source": [
    "ch.head()"
   ]
  },
  {
   "cell_type": "code",
   "execution_count": 6,
   "id": "718462b8-4716-4b71-923d-ca61b891bbfa",
   "metadata": {},
   "outputs": [
    {
     "data": {
      "text/plain": [
       "id\n",
       "1      1\n",
       "2      1\n",
       "3      1\n",
       "4      1\n",
       "5      1\n",
       "      ..\n",
       "429    1\n",
       "432    1\n",
       "497    1\n",
       "498    1\n",
       "516    1\n",
       "Length: 138, dtype: int64"
      ]
     },
     "execution_count": 6,
     "metadata": {},
     "output_type": "execute_result"
    }
   ],
   "source": [
    "ch.groupby(['id']).size()"
   ]
  },
  {
   "cell_type": "code",
   "execution_count": 7,
   "id": "da57bcc1-eb9d-4fae-9101-71da2aa90f16",
   "metadata": {},
   "outputs": [
    {
     "name": "stdout",
     "output_type": "stream",
     "text": [
      "Original DataFrame:\n"
     ]
    }
   ],
   "source": [
    "print(\"Original DataFrame:\")"
   ]
  },
  {
   "cell_type": "code",
   "execution_count": 8,
   "id": "22dde062-ba0c-48d2-8fd6-a28ddf670a65",
   "metadata": {},
   "outputs": [],
   "source": [
    "ch_sorted = ch.sort_values(by='id')"
   ]
  },
  {
   "cell_type": "code",
   "execution_count": 11,
   "id": "1eb94c7f-f5d7-41fd-b19b-fc4f3c9d6fc8",
   "metadata": {},
   "outputs": [
    {
     "name": "stdout",
     "output_type": "stream",
     "text": [
      "             name   id\n",
      "40          Annie    1\n",
      "99           Olaf    2\n",
      "33          Galio    3\n",
      "100  Twisted Fate    4\n",
      "52       Xin Zhao    5\n",
      "..            ...  ...\n",
      "108       Kalista  429\n",
      "103          Bard  432\n",
      "72          Rakan  497\n",
      "89          Xayah  498\n",
      "15           Ornn  516\n",
      "\n",
      "[138 rows x 2 columns]\n"
     ]
    }
   ],
   "source": [
    "print(ch_sorted)"
   ]
  },
  {
   "cell_type": "code",
   "execution_count": 13,
   "id": "5deea596-375e-4d06-b84b-bbca0948c2a7",
   "metadata": {},
   "outputs": [],
   "source": [
    "pd.set_option('display.max_rows', len(ch_sorted))"
   ]
  },
  {
   "cell_type": "code",
   "execution_count": 15,
   "id": "4f514a89-e15e-48e9-9c9e-7eefd0afee7b",
   "metadata": {},
   "outputs": [
    {
     "name": "stdout",
     "output_type": "stream",
     "text": [
      "             name   id\n",
      "40          Annie    1\n",
      "99           Olaf    2\n",
      "33          Galio    3\n",
      "100  Twisted Fate    4\n",
      "52       Xin Zhao    5\n",
      "31          Urgot    6\n",
      "7         LeBlanc    7\n",
      "91       Vladimir    8\n",
      "32   Fiddlesticks    9\n",
      "22          Kayle   10\n",
      "129     Master Yi   11\n",
      "51        Alistar   12\n",
      "130          Ryze   13\n",
      "127          Sion   14\n",
      "18          Sivir   15\n",
      "88         Soraka   16\n",
      "39          Teemo   17\n",
      "2        Tristana   18\n",
      "95        Warwick   19\n",
      "101          Nunu   20\n",
      "19   Miss Fortune   21\n",
      "107          Ashe   22\n",
      "82     Tryndamere   23\n",
      "0             Jax   24\n",
      "113       Morgana   25\n",
      "92         Zilean   26\n",
      "5          Singed   27\n",
      "124       Evelynn   28\n",
      "121        Twitch   29\n",
      "90        Karthus   30\n",
      "45        ChoGath   31\n",
      "111         Amumu   32\n",
      "61         Rammus   33\n",
      "132        Anivia   34\n",
      "23          Shaco   35\n",
      "122       DrMundo   36\n",
      "1            Sona   37\n",
      "17       Kassadin   38\n",
      "104        Irelia   39\n",
      "83          Janna   40\n",
      "36      Gangplank   41\n",
      "77          Corki   42\n",
      "9           Karma   43\n",
      "70          Taric   44\n",
      "75         Veigar   45\n",
      "64        Trundle   48\n",
      "69          Swain   50\n",
      "63        Caitlyn   51\n",
      "60     Blitzcrank   53\n",
      "131      Malphite   54\n",
      "93       Katarina   55\n",
      "114      Nocturne   56\n",
      "28         Maokai   57\n",
      "24       Renekton   58\n",
      "134     Jarvan IV   59\n",
      "84          Elise   60\n",
      "123       Orianna   61\n",
      "106        Wukong   62\n",
      "86          Brand   63\n",
      "13        Lee Sin   64\n",
      "85          Vayne   67\n",
      "11         Rumble   68\n",
      "119    Cassiopeia   69\n",
      "73        Skarner   72\n",
      "50   Heimerdinger   74\n",
      "120         Nasus   75\n",
      "56        Nidalee   76\n",
      "12           Udyr   77\n",
      "47          Poppy   78\n",
      "137        Gragas   79\n",
      "34       Pantheon   80\n",
      "37         Ezreal   81\n",
      "41    Mordekaiser   82\n",
      "14         Yorick   83\n",
      "109         Akali   84\n",
      "43         Kennen   85\n",
      "57          Garen   86\n",
      "58          Leona   89\n",
      "135      Malzahar   90\n",
      "35          Talon   91\n",
      "44          Riven   92\n",
      "27         KogMaw   96\n",
      "133          Shen   98\n",
      "126           Lux   99\n",
      "76         Xerath  101\n",
      "94        Shyvana  102\n",
      "79           Ahri  103\n",
      "87         Graves  104\n",
      "26           Fizz  105\n",
      "54       Volibear  106\n",
      "102        Rengar  107\n",
      "3           Varus  110\n",
      "78       Nautilus  111\n",
      "118        Viktor  112\n",
      "55        Sejuani  113\n",
      "4           Fiora  114\n",
      "96          Ziggs  115\n",
      "112          Lulu  117\n",
      "20         Draven  119\n",
      "25        Hecarim  120\n",
      "98         KhaZix  121\n",
      "81         Darius  122\n",
      "80          Jayce  126\n",
      "29      Lissandra  127\n",
      "115         Diana  131\n",
      "66          Quinn  133\n",
      "71         Syndra  134\n",
      "116  Aurelion Sol  136\n",
      "16           Kayn  141\n",
      "117          Zyra  143\n",
      "38           Gnar  150\n",
      "136           Zac  154\n",
      "21          Yasuo  157\n",
      "62         VelKoz  161\n",
      "48        Taliyah  163\n",
      "128       Camille  164\n",
      "74          Braum  201\n",
      "10           Jhin  202\n",
      "65        Kindred  203\n",
      "30           Jinx  222\n",
      "6      Tahm Kench  223\n",
      "53         Lucian  236\n",
      "59            Zed  238\n",
      "97           Kled  240\n",
      "67           Ekko  245\n",
      "110            Vi  254\n",
      "46         Aatrox  266\n",
      "68           Nami  267\n",
      "42           Azir  268\n",
      "8          Thresh  412\n",
      "49         Illaoi  420\n",
      "125        RekSai  421\n",
      "105         Ivern  427\n",
      "108       Kalista  429\n",
      "103          Bard  432\n",
      "72          Rakan  497\n",
      "89          Xayah  498\n",
      "15           Ornn  516\n"
     ]
    }
   ],
   "source": [
    "print(ch_sorted)"
   ]
  },
  {
   "cell_type": "code",
   "execution_count": null,
   "id": "8b757edd-5bda-42a1-a638-11f7708dde1d",
   "metadata": {},
   "outputs": [],
   "source": []
  }
 ],
 "metadata": {
  "kernelspec": {
   "display_name": "Python 3 (ipykernel)",
   "language": "python",
   "name": "python3"
  },
  "language_info": {
   "codemirror_mode": {
    "name": "ipython",
    "version": 3
   },
   "file_extension": ".py",
   "mimetype": "text/x-python",
   "name": "python",
   "nbconvert_exporter": "python",
   "pygments_lexer": "ipython3",
   "version": "3.11.9"
  }
 },
 "nbformat": 4,
 "nbformat_minor": 5
}
